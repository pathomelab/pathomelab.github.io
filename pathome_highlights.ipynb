{
  "cells": [
    {
      "cell_type": "raw",
      "metadata": {},
      "source": [
        "---\n",
        "pagetitle: \"PATHOME Highlights\"\n",
        "format: \n",
        "  revealjs:\n",
        "    theme: dark\n",
        "    auto-slide: 10000  # Time in milliseconds (e.g., 5000ms = 5 seconds)\n",
        "    loop: true       # Enable looping\n",
        "---"
      ],
      "id": "2011d4b9"
    },
    {
      "cell_type": "markdown",
      "metadata": {},
      "source": [
        "## slide 1 {background-color=rgba(0,0,0,1), auto-animate=true}\n",
        "\n",
        "\n",
        "```{html}\n",
        "<img src=\"img/protocol_paper-nbhds.jpg\" style=\"width:100%;\">\n",
        "```\n",
        "\n",
        "\n",
        "* From <a href=\"https://doi.org/10.1136/bmjopen-2023-076067\">Baker et al. (2023)</a>, the PATHOME team articulated the need and scientific justification for a transdisciplinary One Health study of how improvements in societal conditions influences enteric pathogen transmission between animals, humans, and the environment. The study proposed multiple new data collection methods, such as use of geotrackers for measuring human-animal-environment spatial interactions and new microbiological approaches, as well as new statistical and computational analysis methods. It also proposed a study population design that aimed to test counterfactual theories about higher levels of development reducing pathogen transmission and a novel 14-day “short cohort” enrollment timeline to detect temporal dynamics of infection and recovery for pathogens with typically short (<14 day) clinical infection periods.\n",
        "\n",
        "## slide 2 {auto-animate=true}\n",
        "\n",
        "\n",
        "```{=html}\n",
        "<div class=\"container-fluid\">\n",
        "  <img src=\"img/protocol_paper-nbhds.jpg\" class=\"img-fluid\">\n",
        "</div>\n",
        "```\n",
        "\n",
        "\n",
        "* From <a href=\"https://doi.org/10.1136/bmjopen-2023-076067\">Baker et al. (2023)</a>, the PATHOME team articulated the need and scientific justification for a transdisciplinary One Health study of how improvements in societal conditions influences enteric pathogen transmission between animals, humans, and the environment. The study proposed multiple new data collection methods, such as use of geotrackers for measuring human-animal-environment spatial interactions and new microbiological approaches, as well as new statistical and computational analysis methods. It also proposed a study population design that aimed to test counterfactual theories about higher levels of development reducing pathogen transmission and a novel 14-day “short cohort” enrollment timeline to detect temporal dynamics of infection and recovery for pathogens with typically short (<14 day) clinical infection periods."
      ],
      "id": "5b31e680"
    }
  ],
  "metadata": {
    "kernelspec": {
      "display_name": "Python 3",
      "language": "python",
      "name": "python3"
    }
  },
  "nbformat": 4,
  "nbformat_minor": 5
}